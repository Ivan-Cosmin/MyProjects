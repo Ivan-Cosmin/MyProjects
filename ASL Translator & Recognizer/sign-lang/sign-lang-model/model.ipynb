{
 "cells": [
  {
   "cell_type": "code",
   "execution_count": 13,
   "metadata": {},
   "outputs": [],
   "source": [
    "import torch"
   ]
  },
  {
   "cell_type": "code",
   "execution_count": 14,
   "metadata": {},
   "outputs": [],
   "source": [
    "import numpy as np\n",
    "import matplotlib.pyplot as plt\n",
    "from sklearn.model_selection import train_test_split\n"
   ]
  },
  {
   "cell_type": "code",
   "execution_count": 15,
   "metadata": {},
   "outputs": [],
   "source": [
    "\n",
    "X_data = np.loadtxt('data.csv', delimiter=',', dtype=float, usecols=list(range(1, 64)))\n",
    "y_data = np.loadtxt('data.csv', delimiter=',', dtype=float, usecols=[0])\n",
    "\n",
    "\n",
    "X_train, X_test, y_train, y_test = train_test_split(X_data, y_data, test_size=0.2, random_state=42, shuffle=True)\n",
    "\n",
    "X_train = torch.from_numpy(X_train).float()\n",
    "y_train = torch.from_numpy(y_train).long()\n",
    "X_test = torch.from_numpy(X_test).float()\n",
    "y_test = torch.from_numpy(y_test).long()"
   ]
  },
  {
   "cell_type": "code",
   "execution_count": 16,
   "metadata": {},
   "outputs": [],
   "source": [
    "from torch.utils.data import DataLoader, Dataset"
   ]
  },
  {
   "cell_type": "code",
   "execution_count": 17,
   "metadata": {},
   "outputs": [],
   "source": [
    "class Custom_Dataset(Dataset):\n",
    "    def __init__(self, X, y):\n",
    "        self.X = X\n",
    "        self.y = y\n",
    "\n",
    "    def __len__(self):\n",
    "        return len(self.X)\n",
    "\n",
    "    def __getitem__(self, idx):\n",
    "        return self.X[idx], self.y[idx]"
   ]
  },
  {
   "cell_type": "code",
   "execution_count": 18,
   "metadata": {},
   "outputs": [],
   "source": [
    "train_dataset = Custom_Dataset(X_train, y_train)\n",
    "test_dataset = Custom_Dataset(X_test, y_test)"
   ]
  },
  {
   "cell_type": "code",
   "execution_count": 21,
   "metadata": {},
   "outputs": [],
   "source": [
    "import cv2\n",
    "import mediapipe as mp\n",
    "import numpy as np"
   ]
  },
  {
   "cell_type": "code",
   "execution_count": 22,
   "metadata": {},
   "outputs": [],
   "source": [
    "def normalize_landmark_list(landmark_list):\n",
    "    base_x = landmark_list[0].x\n",
    "    base_y = landmark_list[0].y\n",
    "    base_z = landmark_list[0].z\n",
    "\n",
    "    for landmark in landmark_list:\n",
    "        landmark.x -= base_x\n",
    "        landmark.y -= base_y\n",
    "        landmark.z -= base_z\n",
    "\n",
    "    landmark_list[0].x = 0\n",
    "    landmark_list[0].y = 0\n",
    "    landmark_list[0].z = 0\n",
    "\n",
    "    flattened_landmark_list = []\n",
    "    for landmark in landmark_list:\n",
    "        flattened_landmark_list.append(landmark.x)\n",
    "        flattened_landmark_list.append(landmark.y)\n",
    "        flattened_landmark_list.append(landmark.z)\n",
    "    \n",
    "\n",
    "    max_value = np.max([abs(value) for value in flattened_landmark_list])\n",
    "\n",
    "    normalized_landmark_list = []\n",
    "\n",
    "    for value in flattened_landmark_list:\n",
    "        value /= max_value\n",
    "        normalized_landmark_list.append(value)\n",
    "   \n",
    "\n",
    "    return normalized_landmark_list\n"
   ]
  },
  {
   "cell_type": "code",
   "execution_count": 32,
   "metadata": {},
   "outputs": [],
   "source": [
    "LABELS = [\"A\", \"B\", \"C\", \"D\", \"E\", \"F\", \"HELLO\", \"G\", \"H\", \"I\", \"K\", \"L\", \"M\", \"N\", \"O\", \"P\", \"Q\", \"R\", \"S\", \"T\", \"U\", \"V\", \"W\", \"X\", \"Y\"]"
   ]
  }
 ],
 "metadata": {
  "kernelspec": {
   "display_name": "SL",
   "language": "python",
   "name": "python3"
  },
  "language_info": {
   "codemirror_mode": {
    "name": "ipython",
    "version": 3
   },
   "file_extension": ".py",
   "mimetype": "text/x-python",
   "name": "python",
   "nbconvert_exporter": "python",
   "pygments_lexer": "ipython3",
   "version": "3.9.18"
  }
 },
 "nbformat": 4,
 "nbformat_minor": 2
}
